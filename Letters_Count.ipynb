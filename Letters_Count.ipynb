{
  "nbformat": 4,
  "nbformat_minor": 0,
  "metadata": {
    "colab": {
      "name": "Letters_Count.ipynb",
      "provenance": []
    },
    "kernelspec": {
      "name": "python3",
      "display_name": "Python 3"
    },
    "language_info": {
      "name": "python"
    }
  },
  "cells": [
    {
      "cell_type": "code",
      "metadata": {
        "colab": {
          "base_uri": "https://localhost:8080/"
        },
        "id": "SyLn_mrcczhS",
        "outputId": "e193ea68-8a5c-4c90-bd06-36a931d74b57"
      },
      "source": [
        "a = input(\"Please write a sentence: \")\n",
        "print({i: a.count(i) for i in a})"
      ],
      "execution_count": 2,
      "outputs": [
        {
          "output_type": "stream",
          "name": "stdout",
          "text": [
            "Please write a sentence: ahmett\n",
            "{'a': 1, 'h': 1, 'm': 1, 'e': 1, 't': 2}\n"
          ]
        }
      ]
    }
  ]
}